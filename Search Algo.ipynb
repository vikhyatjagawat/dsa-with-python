{
 "cells": [
  {
   "cell_type": "markdown",
   "source": [
    "## Binary Search\n",
    "\n",
    "* Time Complexity  - `O(log n)`\n",
    "* Space Complexity - `O(1)`"
   ],
   "metadata": {}
  },
  {
   "cell_type": "code",
   "execution_count": 1,
   "source": [
    "def binary_search(arr, query):\r\n",
    "    lo, hi = 0, len(arr)-1\r\n",
    "    \r\n",
    "    while lo <= hi:\r\n",
    "        mid = (lo+hi) // 2\r\n",
    "        \r\n",
    "        if arr[mid] == query:\r\n",
    "            return mid\r\n",
    "        elif arr[mid] > query:\r\n",
    "            hi = mid-1\r\n",
    "        elif arr[mid] < query:\r\n",
    "            lo = mid+1\r\n",
    "            \r\n",
    "    return -1"
   ],
   "outputs": [],
   "metadata": {}
  },
  {
   "cell_type": "markdown",
   "source": [
    "**Recursive** Method"
   ],
   "metadata": {}
  },
  {
   "cell_type": "code",
   "execution_count": 2,
   "source": [
    "def binarySearch_Recursive(arr, lo, hi, query):\r\n",
    "    \r\n",
    "    if lo<=hi:\r\n",
    "        mid = (lo+hi) // 2\r\n",
    "\r\n",
    "        if arr[mid] == query:\r\n",
    "            return mid\r\n",
    "        elif arr[mid] > query:\r\n",
    "            return binarySearch_Recursive(arr, lo, mid-1, query)\r\n",
    "        elif arr[mid] < query:\r\n",
    "            return binarySearch_Recursive(arr, mid+1, hi, query)\r\n",
    "\r\n",
    "    else:\r\n",
    "        return -1"
   ],
   "outputs": [],
   "metadata": {}
  },
  {
   "cell_type": "code",
   "execution_count": 3,
   "source": [
    "arr = [12, 23, 34, 45, 56, 67, 78, 89, 90]\r\n",
    "target = 23\r\n",
    "binary_search(arr, target)"
   ],
   "outputs": [
    {
     "output_type": "execute_result",
     "data": {
      "text/plain": [
       "1"
      ]
     },
     "metadata": {},
     "execution_count": 3
    }
   ],
   "metadata": {}
  },
  {
   "cell_type": "code",
   "execution_count": 4,
   "source": [
    "print(binarySearch_Recursive(arr, 0, len(arr)-1, target))"
   ],
   "outputs": [
    {
     "output_type": "stream",
     "name": "stdout",
     "text": [
      "1\n"
     ]
    }
   ],
   "metadata": {}
  }
 ],
 "metadata": {
  "kernelspec": {
   "name": "python3",
   "display_name": "Python 3.7.0 64-bit"
  },
  "language_info": {
   "codemirror_mode": {
    "name": "ipython",
    "version": 3
   },
   "file_extension": ".py",
   "mimetype": "text/x-python",
   "name": "python",
   "nbconvert_exporter": "python",
   "pygments_lexer": "ipython3",
   "version": "3.7.0"
  },
  "interpreter": {
   "hash": "c9f436d4e3521765bb068fec610f28421bb070aebde03a9830fcc48f46f13e8e"
  }
 },
 "nbformat": 4,
 "nbformat_minor": 4
}