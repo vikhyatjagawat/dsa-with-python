{
 "cells": [
  {
   "cell_type": "markdown",
   "metadata": {},
   "source": [
    "## Stack"
   ]
  },
  {
   "cell_type": "code",
   "execution_count": 1,
   "metadata": {},
   "outputs": [],
   "source": [
    "class Stack:\n",
    "    def __init__(self):\n",
    "        self.stack = []\n",
    "    \n",
    "    def isEmpty(self):\n",
    "        return len(self.stack) == 0\n",
    "    \n",
    "    def push(self, val):\n",
    "        self.stack.append(val)\n",
    "        \n",
    "    def pop(self):\n",
    "        if (self.isEmpty()):\n",
    "            return 'Empty Stack'\n",
    "        \n",
    "        return self.stack.pop()"
   ]
  },
  {
   "cell_type": "markdown",
   "metadata": {},
   "source": [
    "## Regular Queue"
   ]
  },
  {
   "cell_type": "code",
   "execution_count": 3,
   "metadata": {},
   "outputs": [],
   "source": [
    "class Queue:\n",
    "    def __init__(self):\n",
    "        self.queue = []\n",
    "        \n",
    "    def enqueue(self, val):\n",
    "        self.queue.append(val)\n",
    "        \n",
    "    def dequeue(self):\n",
    "        if len(self.queue) < 1:\n",
    "            return 'Empty Queue'\n",
    "        \n",
    "        return self.queue.pop(0)"
   ]
  },
  {
   "cell_type": "markdown",
   "metadata": {},
   "source": [
    "## Circular Queue"
   ]
  },
  {
   "cell_type": "code",
   "execution_count": 4,
   "metadata": {},
   "outputs": [],
   "source": [
    "class CircularQ:\n",
    "    def __init__(self, size):\n",
    "        self.size = size\n",
    "        self.queue = [None] * self.size\n",
    "        self.head = self.tail = -1\n",
    "    \n",
    "    def enqueue(self, val):\n",
    "        if (self.tail + 1) % self.size == self.head:\n",
    "            print(\"Queue is Full\")\n",
    "            \n",
    "        elif self.head == -1:\n",
    "            self.head += 1\n",
    "            self.tail += 1\n",
    "            self.queue[self.tail] = val\n",
    "        \n",
    "        else:\n",
    "            self.tail = (self.tail + 1) % self.size\n",
    "            self.queue[self.tail] = val\n",
    "            \n",
    "    def dequeue(self):\n",
    "        if self.head == -1:\n",
    "            print('Queue is Empty')\n",
    "            \n",
    "        elif self.head == self.tail:\n",
    "            temp = self.queue[self.head]\n",
    "            self.head = -1\n",
    "            self.tail = -1\n",
    "            return temp\n",
    "        \n",
    "        else:\n",
    "            temp = self.queue[self.head]\n",
    "            self.head = (self.head + 1) % self.size\n",
    "            return temp\n",
    "        \n",
    "    def display(self):\n",
    "        if self.head == -1:\n",
    "            print('Queue is Empty')\n",
    "            \n",
    "        elif self.tail >= self.head:\n",
    "            for i in range(self.head, self.tail+1):\n",
    "                print(self.queue[i])\n",
    "            \n",
    "        else:\n",
    "            for i in range(self.head, self.size):\n",
    "                print(self.queue[i])\n",
    "            for i in range(0, self.tail + 1):\n",
    "                print(self.queue[i])\n",
    "            "
   ]
  },
  {
   "cell_type": "markdown",
   "metadata": {},
   "source": [
    "## Priority Queue"
   ]
  },
  {
   "cell_type": "code",
   "execution_count": null,
   "metadata": {},
   "outputs": [],
   "source": []
  },
  {
   "cell_type": "markdown",
   "metadata": {},
   "source": [
    "## Deque (Double Ended Queue)"
   ]
  },
  {
   "cell_type": "code",
   "execution_count": null,
   "metadata": {},
   "outputs": [],
   "source": []
  }
 ],
 "metadata": {
  "kernelspec": {
   "display_name": "Python 3",
   "language": "python",
   "name": "python3"
  },
  "language_info": {
   "codemirror_mode": {
    "name": "ipython",
    "version": 3
   },
   "file_extension": ".py",
   "mimetype": "text/x-python",
   "name": "python",
   "nbconvert_exporter": "python",
   "pygments_lexer": "ipython3",
   "version": "3.7.0"
  }
 },
 "nbformat": 4,
 "nbformat_minor": 4
}
