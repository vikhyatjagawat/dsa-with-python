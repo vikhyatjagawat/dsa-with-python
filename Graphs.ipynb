{
 "cells": [
  {
   "cell_type": "markdown",
   "source": [
    "## Graphs\r\n",
    "\r\n",
    "### Adjacency Matrix"
   ],
   "metadata": {}
  },
  {
   "cell_type": "code",
   "execution_count": 2,
   "source": [
    "class Graph:\r\n",
    "\r\n",
    "    # Initialize the matrix\r\n",
    "    def __init__(self, size):\r\n",
    "        self.adjMatrix = []\r\n",
    "        for i in range(size):\r\n",
    "            self.adjMatrix.append([0 for i in range(size)])\r\n",
    "        self.size = size\r\n",
    "\r\n",
    "    # Add edges\r\n",
    "    def add_edge(self, v1, v2):\r\n",
    "        if v1 == v2:\r\n",
    "            print(\"Same vertex %d and %d\" % (v1, v2))\r\n",
    "        self.adjMatrix[v1][v2] = 1\r\n",
    "        self.adjMatrix[v2][v1] = 1\r\n",
    "\r\n",
    "    # Remove edges\r\n",
    "    def remove_edges(self, v1, v2):\r\n",
    "        if self.adjMatrix[v1][v2] == 0:\r\n",
    "            print(\"No edge b/w %d and %d\" % (v1, v2))\r\n",
    "            return \r\n",
    "        self.adjMatrix[v1][v2] = 0\r\n",
    "        self.adjMatrix[v2][v1] = 0\r\n",
    "\r\n",
    "    def __len__(self):\r\n",
    "        return self.size\r\n",
    "\r\n",
    "    # Print the matrix\r\n",
    "    def print_matrix(self):\r\n",
    "        for row in self.adjMatrix:\r\n",
    "            for val in row:\r\n",
    "                print('{:4}'.format(val)),\r\n",
    "            print\r\n",
    "\r\n",
    "\r\n",
    "if __name__ == '__main__':\r\n",
    "    G = Graph(5)\r\n",
    "    G.add_edge(0, 1)\r\n",
    "    G.add_edge(0, 2)\r\n",
    "    G.add_edge(1, 2)\r\n",
    "    G.add_edge(2, 0)\r\n",
    "    G.add_edge(2, 3)\r\n",
    "\r\n",
    "    G.print_matrix()"
   ],
   "outputs": [
    {
     "output_type": "stream",
     "name": "stdout",
     "text": [
      "   0\n",
      "   1\n",
      "   1\n",
      "   0\n",
      "   0\n",
      "   1\n",
      "   0\n",
      "   1\n",
      "   0\n",
      "   0\n",
      "   1\n",
      "   1\n",
      "   0\n",
      "   1\n",
      "   0\n",
      "   0\n",
      "   0\n",
      "   1\n",
      "   0\n",
      "   0\n",
      "   0\n",
      "   0\n",
      "   0\n",
      "   0\n",
      "   0\n"
     ]
    }
   ],
   "metadata": {}
  },
  {
   "cell_type": "markdown",
   "source": [
    "### Adjacency List"
   ],
   "metadata": {}
  },
  {
   "cell_type": "code",
   "execution_count": 1,
   "source": [
    "print('hello')"
   ],
   "outputs": [
    {
     "output_type": "stream",
     "name": "stdout",
     "text": [
      "hello\n"
     ]
    }
   ],
   "metadata": {}
  },
  {
   "cell_type": "markdown",
   "source": [
    "### DFS ( Depth First Search )"
   ],
   "metadata": {}
  },
  {
   "cell_type": "code",
   "execution_count": 19,
   "source": [
    "from collections import defaultdict\r\n",
    "\r\n",
    "\r\n",
    "class Graph:\r\n",
    "    def __init__(self):\r\n",
    "        self.graph = defaultdict(list)\r\n",
    "\r\n",
    "    def add_edge(self, u, v):\r\n",
    "        self.graph[u].append(v)\r\n",
    "\r\n",
    "    def dfs(self, start, visited = None):\r\n",
    "        if visited is None:\r\n",
    "            visited = set()\r\n",
    "        visited.add(start)\r\n",
    "\r\n",
    "        print(start, end=' ')\r\n",
    "\r\n",
    "        for next in self.graph[start]:\r\n",
    "            if next not in visited:\r\n",
    "                self.dfs(next, visited)\r\n",
    "        return visited\r\n",
    "\r\n",
    "g = Graph()\r\n",
    "g.add_edge(0, 1)\r\n",
    "g.add_edge(0, 2)\r\n",
    "g.add_edge(0, 3)\r\n",
    "g.add_edge(1, 0)\r\n",
    "g.add_edge(1, 2)\r\n",
    "g.add_edge(2, 0)\r\n",
    "g.add_edge(2, 1)\r\n",
    "g.add_edge(2, 4)\r\n",
    "g.add_edge(3, 0)\r\n",
    "    \r\n",
    "g.dfs(2)"
   ],
   "outputs": [
    {
     "output_type": "stream",
     "name": "stdout",
     "text": [
      "2 0 1 3 4 "
     ]
    },
    {
     "output_type": "execute_result",
     "data": {
      "text/plain": [
       "{0, 1, 2, 3, 4}"
      ]
     },
     "metadata": {},
     "execution_count": 19
    }
   ],
   "metadata": {}
  },
  {
   "cell_type": "markdown",
   "source": [
    "### BFS ( Breadth First Search )"
   ],
   "metadata": {}
  },
  {
   "cell_type": "code",
   "execution_count": 18,
   "source": [
    "from collections import defaultdict, deque\r\n",
    "\r\n",
    "class Graph:\r\n",
    "    def __init__(self):\r\n",
    "        self.graph = defaultdict(list)\r\n",
    "\r\n",
    "    def add_edge(self, u, v):\r\n",
    "        self.graph[u].append(v)\r\n",
    "\r\n",
    "    def bfs(self, root):\r\n",
    "        visited, queue = set(), deque([root])\r\n",
    "        visited.add(root)\r\n",
    "\r\n",
    "        while queue:\r\n",
    "            vertex = queue.popleft()\r\n",
    "            print(vertex, end=\" \")\r\n",
    "\r\n",
    "            for neighbour in self.graph[vertex]:\r\n",
    "                if neighbour not in visited:\r\n",
    "                    visited.add(neighbour)\r\n",
    "                    queue.append(neighbour)\r\n",
    "        \r\n",
    "        print('\\n', visited)\r\n",
    "\r\n",
    "g = Graph()\r\n",
    "g.add_edge(0, 1)\r\n",
    "g.add_edge(0, 2)\r\n",
    "g.add_edge(0, 3)\r\n",
    "g.add_edge(1, 0)\r\n",
    "g.add_edge(1, 2)\r\n",
    "g.add_edge(2, 0)\r\n",
    "g.add_edge(2, 1)\r\n",
    "g.add_edge(2, 4)\r\n",
    "g.add_edge(3, 0)\r\n",
    "    \r\n",
    "g.bfs(2)"
   ],
   "outputs": [
    {
     "output_type": "stream",
     "name": "stdout",
     "text": [
      "2 0 1 4 3 \n",
      " {0, 1, 2, 3, 4}\n"
     ]
    }
   ],
   "metadata": {}
  },
  {
   "cell_type": "code",
   "execution_count": null,
   "source": [],
   "outputs": [],
   "metadata": {}
  }
 ],
 "metadata": {
  "kernelspec": {
   "name": "python3",
   "display_name": "Python 3.7.0 64-bit"
  },
  "language_info": {
   "codemirror_mode": {
    "name": "ipython",
    "version": 3
   },
   "file_extension": ".py",
   "mimetype": "text/x-python",
   "name": "python",
   "nbconvert_exporter": "python",
   "pygments_lexer": "ipython3",
   "version": "3.7.0"
  },
  "interpreter": {
   "hash": "c9f436d4e3521765bb068fec610f28421bb070aebde03a9830fcc48f46f13e8e"
  }
 },
 "nbformat": 4,
 "nbformat_minor": 4
}