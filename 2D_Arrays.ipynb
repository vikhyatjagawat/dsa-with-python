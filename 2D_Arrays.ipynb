{
  "nbformat": 4,
  "nbformat_minor": 0,
  "metadata": {
    "colab": {
      "name": "2D Arrays.ipynb",
      "provenance": [],
      "authorship_tag": "ABX9TyNwPEiz+CVpHtvPCNC5XPfi",
      "include_colab_link": true
    },
    "kernelspec": {
      "name": "python3",
      "display_name": "Python 3"
    },
    "language_info": {
      "name": "python"
    }
  },
  "cells": [
    {
      "cell_type": "markdown",
      "metadata": {
        "id": "view-in-github",
        "colab_type": "text"
      },
      "source": [
        "<a href=\"https://colab.research.google.com/github/vikhyatjagawat/dsa-with-python/blob/main/2D_Arrays.ipynb\" target=\"_parent\"><img src=\"https://colab.research.google.com/assets/colab-badge.svg\" alt=\"Open In Colab\"/></a>"
      ]
    },
    {
      "cell_type": "markdown",
      "metadata": {
        "id": "EovWPGsDu44g"
      },
      "source": [
        "## DFS"
      ]
    },
    {
      "cell_type": "code",
      "metadata": {
        "colab": {
          "base_uri": "https://localhost:8080/"
        },
        "id": "SgCbYI1Muv10",
        "outputId": "7a31b0cb-6122-45d7-9ae9-80355d1e4aca"
      },
      "source": [
        "directions = [[-1, 0], [0, 1], [1, 0], [0, -1]]\n",
        "global directions\n",
        "\n",
        "def traversalDFS(mat):\n",
        "  seen = [[False for i in range(len(mat))] for j in range(len(mat[0]))]\n",
        "\n",
        "  values = []\n",
        "  dfs(mat, 0, 0, seen, values)\n",
        "  return values\n",
        "\n",
        "def dfs(mat, row, col, seen, values):\n",
        "  if row<0 or col<0 or row>=len(mat) or col>=len(mat[0]) or seen[row][col]:\n",
        "    return\n",
        "  \n",
        "  values.append(mat[row][col])\n",
        "  seen[row][col] = True\n",
        "\n",
        "  for i in range(len(directions)):\n",
        "    currdir = directions[i]\n",
        "    dfs(mat, row + currdir[0], col + currdir[1], seen, values)\n",
        "\n",
        "\n",
        "row = int(input())\n",
        "col = int(input())\n",
        "arr = [[ i for i in range(row)] for j in range(col)]\n",
        "traversalDFS(arr)"
      ],
      "execution_count": 4,
      "outputs": [
        {
          "name": "stdout",
          "output_type": "stream",
          "text": [
            "5\n",
            "5\n"
          ]
        },
        {
          "output_type": "execute_result",
          "data": {
            "text/plain": [
              "[0, 1, 2, 3, 4, 4, 4, 4, 4, 3, 3, 3, 3, 2, 2, 2, 2, 1, 1, 1, 1, 0, 0, 0, 0]"
            ]
          },
          "metadata": {},
          "execution_count": 4
        }
      ]
    },
    {
      "cell_type": "code",
      "metadata": {
        "id": "gPFD24juxOJq"
      },
      "source": [
        ""
      ],
      "execution_count": null,
      "outputs": []
    }
  ]
}